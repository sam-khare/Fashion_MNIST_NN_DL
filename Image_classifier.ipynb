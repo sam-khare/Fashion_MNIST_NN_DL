{
  "nbformat": 4,
  "nbformat_minor": 0,
  "metadata": {
    "colab": {
      "name": "coursework_final.ipynb",
      "provenance": [],
      "collapsed_sections": []
    },
    "kernelspec": {
      "name": "python3",
      "display_name": "Python 3"
    },
    "language_info": {
      "name": "python"
    }
  },
  "cells": [
    {
      "cell_type": "markdown",
      "source": [
        "# Coursework for NN and DL"
      ],
      "metadata": {
        "id": "rxo7-zdoWxNX"
      }
    },
    {
      "cell_type": "code",
      "execution_count": 1,
      "metadata": {
        "colab": {
          "base_uri": "https://localhost:8080/"
        },
        "id": "S4tEJwHeIX4D",
        "outputId": "009136e6-41e8-4295-b22b-9707a88095fd"
      },
      "outputs": [
        {
          "output_type": "stream",
          "name": "stdout",
          "text": [
            "Requirement already satisfied: einops in /usr/local/lib/python3.7/dist-packages (0.4.1)\n"
          ]
        }
      ],
      "source": [
        "pip install einops"
      ]
    },
    {
      "cell_type": "code",
      "source": [
        "import torch\n",
        "from torch.utils import data\n",
        "from torch import nn\n",
        "from torchvision import transforms\n",
        "import torchvision\n",
        "from IPython import display\n",
        "from einops.layers.torch import Rearrange\n",
        "import matplotlib.pyplot as plt\n",
        "\n"
      ],
      "metadata": {
        "id": "MGpK8sHhIkFM"
      },
      "execution_count": 2,
      "outputs": []
    },
    {
      "cell_type": "markdown",
      "source": [
        "#Read Dataset and create Dataloader"
      ],
      "metadata": {
        "id": "f8AephYWCO9d"
      }
    },
    {
      "cell_type": "code",
      "source": [
        "\n",
        "batch_size = 64  #no. of images to be input in a single batch\n",
        "trans = [transforms.ToTensor()]\n",
        "trans = transforms.Compose(trans)\n",
        "\n",
        "#Reading or accessing Dataset through Dataset class.\n",
        "mnist_train = torchvision.datasets.FashionMNIST(root=\"../data\", train=True, transform=trans, download=True)\n",
        "mnist_test = torchvision.datasets.FashionMNIST(root=\"../data\", train=False, transform=trans, download=True)\n",
        "\n"
      ],
      "metadata": {
        "id": "YGrgXZFcIs6o"
      },
      "execution_count": 3,
      "outputs": []
    },
    {
      "cell_type": "code",
      "source": [
        "#shape of train and test sets\n",
        "print(\"training set data shape\",mnist_train.data.shape)\n",
        "print(\"testing set data shape\",mnist_test.data.shape)"
      ],
      "metadata": {
        "colab": {
          "base_uri": "https://localhost:8080/"
        },
        "id": "P_Epgn_mI5am",
        "outputId": "67fa248d-df63-48aa-8765-8687317d62f4"
      },
      "execution_count": 4,
      "outputs": [
        {
          "output_type": "stream",
          "name": "stdout",
          "text": [
            "training set data shape torch.Size([60000, 28, 28])\n",
            "testing set data shape torch.Size([10000, 28, 28])\n"
          ]
        }
      ]
    },
    {
      "cell_type": "code",
      "source": [
        "#Iterate through dataset and prepare them for training and testing\n",
        "train_iter = data.DataLoader(mnist_train, batch_size, shuffle=True,num_workers=4)\n",
        "test_iter = data.DataLoader(mnist_test, batch_size, shuffle=False,num_workers=4)"
      ],
      "metadata": {
        "colab": {
          "base_uri": "https://localhost:8080/"
        },
        "id": "1fin8m0aI0yl",
        "outputId": "e1350966-bd84-407c-8bc7-c7ac2162fa91"
      },
      "execution_count": 5,
      "outputs": [
        {
          "output_type": "stream",
          "name": "stderr",
          "text": [
            "/usr/local/lib/python3.7/dist-packages/torch/utils/data/dataloader.py:481: UserWarning: This DataLoader will create 4 worker processes in total. Our suggested max number of worker in current system is 2, which is smaller than what this DataLoader is going to create. Please be aware that excessive worker creation might get DataLoader running slow or even freeze, lower the worker number to avoid potential slowness/freeze if necessary.\n",
            "  cpuset_checked))\n"
          ]
        }
      ]
    },
    {
      "cell_type": "code",
      "source": [
        "#batch size, image size\n",
        "images , labels = next(iter(train_iter))\n",
        "print(images.size())\n",
        "print(labels.size())"
      ],
      "metadata": {
        "id": "gjq1X0-YIx1w",
        "colab": {
          "base_uri": "https://localhost:8080/"
        },
        "outputId": "a3e5d2f2-e3e0-4a1e-ccf8-da166df871b7"
      },
      "execution_count": 6,
      "outputs": [
        {
          "output_type": "stream",
          "name": "stderr",
          "text": [
            "/usr/local/lib/python3.7/dist-packages/torch/utils/data/dataloader.py:481: UserWarning: This DataLoader will create 4 worker processes in total. Our suggested max number of worker in current system is 2, which is smaller than what this DataLoader is going to create. Please be aware that excessive worker creation might get DataLoader running slow or even freeze, lower the worker number to avoid potential slowness/freeze if necessary.\n",
            "  cpuset_checked))\n"
          ]
        },
        {
          "output_type": "stream",
          "name": "stdout",
          "text": [
            "torch.Size([64, 1, 28, 28])\n",
            "torch.Size([64])\n"
          ]
        }
      ]
    },
    {
      "cell_type": "markdown",
      "source": [
        "#Defining the model"
      ],
      "metadata": {
        "id": "zt2miuVMPQAw"
      }
    },
    {
      "cell_type": "code",
      "source": [
        "class Net(torch.nn.Module):\n",
        "  def __init__(self,input_size,patch_size, img_channel):\n",
        "    super(Net,self).__init__()\n",
        "    self.input_size = input_size  #dimension of a single input image\n",
        "    self.patch_size = patch_size  # dimension of patch\n",
        "    self.img_channel = img_channel # channel dimension      \n",
        "    \n",
        "    #Stem part - dividing our input image into multiple patches \n",
        "    assert (input_size[0] % patch_size[0])==0,'Height must be divisible by patch size'\n",
        "    assert (input_size[1] % patch_size[1])==0,'Width must be divisible by patch size'\n",
        "    num_patches = int(input_size[0]/patch_size[0]*input_size[1]/patch_size[1])\n",
        "    patch_dim = img_channel * patch_size[0] * patch_size[1]\n",
        "    self.patch_conversion = nn.Sequential(\n",
        "                    Rearrange('b c (h p1) (w p2) -> b (h w) (p1 p2 c)', p1 = patch_size[0], p2 = patch_size[1]),\n",
        "                    nn.Linear(patch_dim, patch_dim))\n",
        "    \n",
        "    #Backbone - implementing one block, containing two mlps\n",
        "    self.Linear1 = nn.Linear(num_patches,512)\n",
        "    self.Linear2 = nn.Linear(512,256)\n",
        "\n",
        "    self.Linear3 = nn.Linear(patch_dim,128)\n",
        "    self.Linear4 = nn.Linear(128,64)\n",
        "    \n",
        "    #Classifier\n",
        "    self.classifier = nn.Linear(64,10)\n",
        "    \n",
        "    #non linear activation function\n",
        "    self.relu = nn.ReLU()\n",
        "    #self.drop_out = nn.Dropout(0.1)\n",
        "    \n",
        "  def forward(self,x):\n",
        "    #Stem part transformation\n",
        "    x = self.patch_conversion(x)\n",
        "    \n",
        "    #transposing before feeding into first layer of backbone\n",
        "    x = x.transpose(1,2)\n",
        "    x = self.Linear1(x)\n",
        "    x = self.relu(x)\n",
        "    x = self.Linear2(x)\n",
        "    x = self.relu(x)\n",
        "\n",
        "    #transposing after 1st MLP\n",
        "    x = x.transpose(1,2)\n",
        "    x = self.Linear3(x)\n",
        "    x = self.relu(x)\n",
        "    x = self.Linear4(x)\n",
        "    x = self.relu(x)\n",
        "    \n",
        "    #calculating mean before feeding into classifier\n",
        "    x = torch.mean(x,dim=1)\n",
        "    out = self.classifier(x) \n",
        "    return out"
      ],
      "metadata": {
        "id": "RgQ6uFcDI3kz"
      },
      "execution_count": 7,
      "outputs": []
    },
    {
      "cell_type": "markdown",
      "source": [
        "# Model instantiation and initialisation "
      ],
      "metadata": {
        "id": "G7TYOhg2PbOV"
      }
    },
    {
      "cell_type": "code",
      "source": [
        "input_size = (28,28) #image size\n",
        "patch_size = (7,7)  #size of one patch\n",
        "img_channel= 1  #gray scale image \n",
        "net = Net(input_size,patch_size, img_channel)\n",
        "print(net)"
      ],
      "metadata": {
        "colab": {
          "base_uri": "https://localhost:8080/"
        },
        "id": "6h7Pnww8MEIS",
        "outputId": "7ebbe3bc-33ab-40d0-9baa-4e52cb089690"
      },
      "execution_count": 8,
      "outputs": [
        {
          "output_type": "stream",
          "name": "stdout",
          "text": [
            "Net(\n",
            "  (patch_conversion): Sequential(\n",
            "    (0): Rearrange('b c (h p1) (w p2) -> b (h w) (p1 p2 c)', p1=7, p2=7)\n",
            "    (1): Linear(in_features=49, out_features=49, bias=True)\n",
            "  )\n",
            "  (Linear1): Linear(in_features=16, out_features=512, bias=True)\n",
            "  (Linear2): Linear(in_features=512, out_features=256, bias=True)\n",
            "  (Linear3): Linear(in_features=49, out_features=128, bias=True)\n",
            "  (Linear4): Linear(in_features=128, out_features=64, bias=True)\n",
            "  (classifier): Linear(in_features=64, out_features=10, bias=True)\n",
            "  (relu): ReLU()\n",
            ")\n"
          ]
        }
      ]
    },
    {
      "cell_type": "markdown",
      "source": [
        "# Defining Loss and optimization"
      ],
      "metadata": {
        "id": "mn6h_HK4QZ_5"
      }
    },
    {
      "cell_type": "code",
      "source": [
        "#using Categorical Cross Entropy loss\n",
        "loss = nn.CrossEntropyLoss()\n",
        "\n",
        "#Adam optimizer with given learning rate and weight decay\n",
        "lr, wd = 0.003, 0\n",
        "optimizer = torch.optim.Adam(net.parameters(), lr=lr, weight_decay=wd)"
      ],
      "metadata": {
        "id": "1TdjoLW4N5lW"
      },
      "execution_count": 9,
      "outputs": []
    },
    {
      "cell_type": "markdown",
      "source": [
        "#Training and Validating"
      ],
      "metadata": {
        "id": "zgC_m16cUCKq"
      }
    },
    {
      "cell_type": "code",
      "source": [
        "#training loop\n",
        "num_epochs = 25  \n",
        "training_accuracy = []\n",
        "training_loss = []        \n",
        "validation_accuracy = []\n",
        "validation_loss = []\n",
        "\n",
        "for epoch in range(num_epochs):\n",
        "  train_loss = 0.0\n",
        "  train_acc = 0.0\n",
        "  net.train()\n",
        "  for X, y in train_iter:\n",
        "        #calculate predicted label \n",
        "        y_hat = net(X)\n",
        "\n",
        "        #calculate loss\n",
        "        l = loss(y_hat, y)\n",
        "\n",
        "        #clear the gradients\n",
        "        optimizer.zero_grad()\n",
        "        \n",
        "        #back propagation and update the gradients\n",
        "        l.backward()\n",
        "        optimizer.step()\n",
        "\n",
        "        #calculate training accuracy\n",
        "        prediction = torch.argmax(y_hat,axis=1)\n",
        "        train_acc += (prediction == y).sum().item() \n",
        "        train_loss += l.item()\n",
        "\n",
        "  training_accuracy.append(train_acc/len(mnist_train))\n",
        "  training_loss.append(train_loss/len(train_iter))\n",
        "\n",
        "#Validation loop  \n",
        "  val_loss = 0.0\n",
        "  val_acc = 0.0\n",
        "  net.eval() \n",
        "  with torch.no_grad():\n",
        "    for X_val , y_val in test_iter:\n",
        "         #calculate predicted label\n",
        "         yv_hat = net(X_val)\n",
        "\n",
        "         #calculate loss\n",
        "         yv_loss = loss(yv_hat,y_val)\n",
        "\n",
        "         #calculate validation accuracy\n",
        "         prediction_v = torch.argmax(yv_hat,1)\n",
        "         val_acc += (prediction_v == y_val).sum().item()\n",
        "         val_loss += yv_loss.item() \n",
        "         \n",
        "  validation_accuracy.append(val_acc/len(mnist_test))\n",
        "  validation_loss.append(val_loss/len(test_iter))\n",
        "  \n",
        "\n",
        "  print(f'epoch {epoch + 1},train loss {train_loss/len(train_iter):.2f},train accuracy {train_acc/len(mnist_train):.2f},Validation loss {val_loss/len(test_iter):.2f},Validation accuracy {val_acc/len(mnist_test):.2f}')  \n",
        "  print('#################----------------------#########################')"
      ],
      "metadata": {
        "id": "OwGG0oGUTgc9",
        "colab": {
          "base_uri": "https://localhost:8080/"
        },
        "outputId": "fffc37b1-70b2-4d72-808f-76ab4447cc3b"
      },
      "execution_count": 10,
      "outputs": [
        {
          "output_type": "stream",
          "name": "stderr",
          "text": [
            "/usr/local/lib/python3.7/dist-packages/torch/utils/data/dataloader.py:481: UserWarning: This DataLoader will create 4 worker processes in total. Our suggested max number of worker in current system is 2, which is smaller than what this DataLoader is going to create. Please be aware that excessive worker creation might get DataLoader running slow or even freeze, lower the worker number to avoid potential slowness/freeze if necessary.\n",
            "  cpuset_checked))\n"
          ]
        },
        {
          "output_type": "stream",
          "name": "stdout",
          "text": [
            "epoch 1,train loss 0.71,train accuracy 0.73,Validation loss 0.53,Validation accuracy 0.81\n",
            "#################----------------------#########################\n",
            "epoch 2,train loss 0.45,train accuracy 0.84,Validation loss 0.47,Validation accuracy 0.83\n",
            "#################----------------------#########################\n",
            "epoch 3,train loss 0.40,train accuracy 0.85,Validation loss 0.44,Validation accuracy 0.85\n",
            "#################----------------------#########################\n",
            "epoch 4,train loss 0.37,train accuracy 0.86,Validation loss 0.45,Validation accuracy 0.84\n",
            "#################----------------------#########################\n",
            "epoch 5,train loss 0.35,train accuracy 0.87,Validation loss 0.39,Validation accuracy 0.86\n",
            "#################----------------------#########################\n",
            "epoch 6,train loss 0.34,train accuracy 0.88,Validation loss 0.38,Validation accuracy 0.87\n",
            "#################----------------------#########################\n",
            "epoch 7,train loss 0.32,train accuracy 0.88,Validation loss 0.39,Validation accuracy 0.86\n",
            "#################----------------------#########################\n",
            "epoch 8,train loss 0.31,train accuracy 0.88,Validation loss 0.37,Validation accuracy 0.87\n",
            "#################----------------------#########################\n",
            "epoch 9,train loss 0.30,train accuracy 0.89,Validation loss 0.37,Validation accuracy 0.87\n",
            "#################----------------------#########################\n",
            "epoch 10,train loss 0.29,train accuracy 0.89,Validation loss 0.38,Validation accuracy 0.87\n",
            "#################----------------------#########################\n",
            "epoch 11,train loss 0.28,train accuracy 0.89,Validation loss 0.36,Validation accuracy 0.87\n",
            "#################----------------------#########################\n",
            "epoch 12,train loss 0.27,train accuracy 0.90,Validation loss 0.36,Validation accuracy 0.87\n",
            "#################----------------------#########################\n",
            "epoch 13,train loss 0.27,train accuracy 0.90,Validation loss 0.38,Validation accuracy 0.87\n",
            "#################----------------------#########################\n",
            "epoch 14,train loss 0.26,train accuracy 0.90,Validation loss 0.37,Validation accuracy 0.87\n",
            "#################----------------------#########################\n",
            "epoch 15,train loss 0.25,train accuracy 0.90,Validation loss 0.36,Validation accuracy 0.88\n",
            "#################----------------------#########################\n",
            "epoch 16,train loss 0.25,train accuracy 0.91,Validation loss 0.35,Validation accuracy 0.88\n",
            "#################----------------------#########################\n",
            "epoch 17,train loss 0.24,train accuracy 0.91,Validation loss 0.35,Validation accuracy 0.87\n",
            "#################----------------------#########################\n",
            "epoch 18,train loss 0.23,train accuracy 0.91,Validation loss 0.35,Validation accuracy 0.88\n",
            "#################----------------------#########################\n",
            "epoch 19,train loss 0.23,train accuracy 0.91,Validation loss 0.36,Validation accuracy 0.88\n",
            "#################----------------------#########################\n",
            "epoch 20,train loss 0.22,train accuracy 0.92,Validation loss 0.35,Validation accuracy 0.88\n",
            "#################----------------------#########################\n",
            "epoch 21,train loss 0.21,train accuracy 0.92,Validation loss 0.40,Validation accuracy 0.88\n",
            "#################----------------------#########################\n",
            "epoch 22,train loss 0.21,train accuracy 0.92,Validation loss 0.37,Validation accuracy 0.88\n",
            "#################----------------------#########################\n",
            "epoch 23,train loss 0.21,train accuracy 0.92,Validation loss 0.37,Validation accuracy 0.88\n",
            "#################----------------------#########################\n",
            "epoch 24,train loss 0.20,train accuracy 0.93,Validation loss 0.41,Validation accuracy 0.87\n",
            "#################----------------------#########################\n",
            "epoch 25,train loss 0.20,train accuracy 0.93,Validation loss 0.39,Validation accuracy 0.88\n",
            "#################----------------------#########################\n"
          ]
        }
      ]
    },
    {
      "cell_type": "markdown",
      "source": [
        "#Plot for training vs validation accuracy"
      ],
      "metadata": {
        "id": "GyH1i6OkWIoZ"
      }
    },
    {
      "cell_type": "code",
      "source": [
        "plt.plot(range(num_epochs),training_accuracy,label = 'Train_Accu')\n",
        "plt.plot(range(num_epochs),validation_accuracy,label = 'Val_Accu')\n",
        "plt.legend()\n",
        "plt.xlabel(\"epochs\")\n",
        "plt.ylabel(\"training/Validation accuracy\")\n",
        "plt.plot()"
      ],
      "metadata": {
        "id": "Yt8j03wvBYxh",
        "colab": {
          "base_uri": "https://localhost:8080/",
          "height": 296
        },
        "outputId": "66cbd1c3-7bbe-46c3-80dd-e7f5e7db0d2a"
      },
      "execution_count": 11,
      "outputs": [
        {
          "output_type": "execute_result",
          "data": {
            "text/plain": [
              "[]"
            ]
          },
          "metadata": {},
          "execution_count": 11
        },
        {
          "output_type": "display_data",
          "data": {
            "text/plain": [
              "<Figure size 432x288 with 1 Axes>"
            ],
            "image/png": "[encoded data removed]"
          },
          "metadata": {
            "needs_background": "light"
          }
        }
      ]
    },
    {
      "cell_type": "markdown",
      "source": [
        "#plot for training vs validation loss"
      ],
      "metadata": {
        "id": "VzclMFz7WSlB"
      }
    },
    {
      "cell_type": "code",
      "source": [
        "plt.plot(range(num_epochs),training_loss,label = 'Train_loss')\n",
        "plt.plot(range(num_epochs),validation_loss,label = 'Val_loss')\n",
        "plt.legend()\n",
        "plt.xlabel(\"epochs\")\n",
        "plt.ylabel(\"training/Validation loss\")\n",
        "plt.plot()"
      ],
      "metadata": {
        "id": "EbXvq5CTEuAO",
        "colab": {
          "base_uri": "https://localhost:8080/",
          "height": 296
        },
        "outputId": "6a64fed7-7546-4cf2-8447-5be6061d45d4"
      },
      "execution_count": 12,
      "outputs": [
        {
          "output_type": "execute_result",
          "data": {
            "text/plain": [
              "[]"
            ]
          },
          "metadata": {},
          "execution_count": 12
        },
        {
          "output_type": "display_data",
          "data": {
            "text/plain": [
              "<Figure size 432x288 with 1 Axes>"
            ],
            "image/png": "[encoded data removed]"
          },
          "metadata": {
            "needs_background": "light"
          }
        }
      ]
    }
  ]
}